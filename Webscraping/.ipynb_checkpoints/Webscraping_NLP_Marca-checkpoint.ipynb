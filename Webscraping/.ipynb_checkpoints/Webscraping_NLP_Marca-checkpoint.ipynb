{
 "cells": [
  {
   "cell_type": "markdown",
   "metadata": {},
   "source": [
    "## Requisitos previos\n",
    "#### 1 Instalar spaCy  \n",
    "\n",
    "pip install spacy\n",
    "\n",
    "#### 2 Modelo previamente entrenado en español es_core_news_sm\n",
    "\n",
    "python -m spacy download es_core_news_sm"
   ]
  },
  {
   "cell_type": "code",
   "execution_count": null,
   "metadata": {},
   "outputs": [],
   "source": [
    "!pip install spacy"
   ]
  },
  {
   "cell_type": "code",
   "execution_count": null,
   "metadata": {},
   "outputs": [],
   "source": [
    "!python -m spacy download es_core_news_sm"
   ]
  },
  {
   "cell_type": "code",
   "execution_count": 16,
   "metadata": {},
   "outputs": [],
   "source": [
    "import spacy"
   ]
  },
  {
   "cell_type": "code",
   "execution_count": 17,
   "metadata": {},
   "outputs": [],
   "source": [
    "import requests\n",
    "from bs4 import BeautifulSoup"
   ]
  },
  {
   "cell_type": "code",
   "execution_count": 18,
   "metadata": {},
   "outputs": [],
   "source": [
    "url = 'https://www.marca.com/futbol/real-sociedad/2019/07/23/5d360285e2704eb64e8b45ee.html'\n",
    "res = requests.get(url)\n",
    "html_page = res.content"
   ]
  },
  {
   "cell_type": "code",
   "execution_count": 19,
   "metadata": {},
   "outputs": [],
   "source": [
    "soup = BeautifulSoup(html_page, 'html.parser')"
   ]
  },
  {
   "cell_type": "code",
   "execution_count": 20,
   "metadata": {},
   "outputs": [],
   "source": [
    "text = soup.find_all(text=True)"
   ]
  },
  {
   "cell_type": "code",
   "execution_count": 21,
   "metadata": {},
   "outputs": [],
   "source": [
    "output = ''\n",
    "blacklist = [\n",
    "\t'[document]',\n",
    "\t'noscript',\n",
    "\t'header',\n",
    "\t'html',\n",
    "\t'meta',\n",
    "\t'head', \n",
    "\t'input',\n",
    "\t'script',\n",
    "\t# there may be more elements you don't want, such as \"style\", etc.\n",
    "]"
   ]
  },
  {
   "cell_type": "code",
   "execution_count": 22,
   "metadata": {},
   "outputs": [],
   "source": [
    "for t in text:\n",
    "\tif t.parent.name not in blacklist:\n",
    "\t\toutput += '{} '.format(t)"
   ]
  },
  {
   "cell_type": "code",
   "execution_count": 24,
   "metadata": {},
   "outputs": [
    {
     "data": {
      "text/plain": [
       "'Real Sociedad: Odegaard: \"Mi meta es triunfar en la Real y jugar algún día en el Madrid\" | Marca.com \\n  ##FBEXCLU  \\n \\n \\n \\n \\n \\n Portada de Marca \\n \\n Edición seleccionada \\n ES  \\n \\n \\n Ediciones: \\n \\n \\n \\n  ES (España)\\n \\n \\n \\n \\n  MX (México)\\n \\n \\n \\n \\n  US (USA)\\n \\n \\n \\n \\n  CO (Colombia)\\n \\n \\n \\n \\n  AR (Argentina)\\n \\n \\n \\n \\n  EN (English)\\n \\n \\n \\n \\n \\n \\n \\nEscoge tu edición de Marca.com favorita\\n \\n \\n \\nSiempre que entres en Marca.com se cargará esta edición\\n \\n \\n \\n \\n ES (España)\\n \\n \\n \\n \\n \\n MX (México)\\n \\n \\n \\n \\n \\n US (USA)\\n \\n \\n \\n \\n \\n CO (Colombia)\\n \\n \\n \\n \\n \\n AR (Argentina)\\n \\n \\n \\n \\n \\n \\n Confirmar \\n \\n \\n \\n Suscríbete \\n \\nFútbol \\n \\n \\n \\n \\nBaloncesto \\n \\n \\n \\n \\nMotor \\n \\n \\n \\n \\nPolideportivo \\n \\n \\n \\n \\n \\n \\n Fichajes \\n \\n \\n eSports \\n \\n \\n CuídatePlus \\n \\n \\n \\n Más Cerrar 23 de julio\\nde 2019 Actualizado a las 07:56 h.  Buscar Cerrar Inicio Volver a: Fútbol LaLiga Santander Real Sociedad Noticias Fichajes Pretemporada Calendario Clasificación Plantilla y datos del club Buscador de bares Ranking Patrocinio Más Cerrar Futbol/real-sociedad Compartir en Facebook Compartir en Twitter Enviar por email \\n \\n \\n España \\n \\n \\n La Liga Santander \\n \\n \\n Resultados \\n \\n \\n  Calendario  \\n \\n \\n  Clasificación  \\n \\n \\n Premios Marca \\n \\n \\n \\n \\n LaLiga 1|2|3 \\n \\n \\n Resultados \\n \\n \\n Calendario \\n \\n \\n Clasificación \\n \\n \\n Premios Marca \\n \\n \\n \\n \\n Más fútbol \\n \\n \\n Segunda B \\n \\n \\n Tercera \\n \\n \\n Danone Nations Cup \\n \\n \\n \\n \\n Copa del Rey \\n \\n \\n Calendario y Resultados \\n \\n \\n \\n \\n Fútbol Femenino \\n \\n \\n Liga Iberdrola \\n \\n \\n Calendario \\n \\n \\n Clasificación \\n \\n \\n \\n \\n Selección Española \\n \\n \\n Eurocopa 2020 \\n \\n \\n \\n \\n Fútbol Sala \\n \\n \\n Calendario \\n \\n \\n Clasificación \\n \\n \\n \\n \\n Encuentra tu Bar Budweiser \\n \\n \\n Premios Marca \\n \\n \\n \\n \\n Internacional \\n \\n \\n Champions League \\n \\n \\n Calendario y Resultados \\n \\n \\n \\n \\n Europa League \\n \\n \\n Calendario y Resultados \\n \\n \\n \\n \\n International Champions Cup \\n \\n \\n Calendario \\n \\n \\n Clasificación \\n \\n \\n \\n \\n Premier League \\n \\n \\n Calendario y Resultados \\n \\n \\n Clasificación \\n \\n \\n \\n \\n Bundesliga \\n \\n \\n Calendario y Resultados \\n \\n \\n Clasificación \\n \\n \\n \\n \\n Calcio \\n \\n \\n Calendario y Resultados \\n \\n \\n Clasificación \\n \\n \\n \\n \\n Ligue 1 \\n \\n \\n Calendario y Resultados \\n \\n \\n Clasificación \\n \\n \\n \\n \\n Otras ligas \\n \\n \\n Portugal \\n \\n \\n Holanda \\n \\n \\n Rusia \\n \\n \\n \\n \\n \\n \\n América \\n \\n \\n Copa América \\n \\n \\n  Calendario y resultados  \\n \\n \\n \\n \\n Argentina \\n \\n \\n  Calendario y resultados  \\n \\n \\n  Clasificación  \\n \\n \\n \\n \\n Chile \\n \\n \\n Calendario y resultados \\n \\n \\n Clasificación \\n \\n \\n \\n \\n Colombia \\n \\n \\n  Calendario y resultados  \\n \\n \\n Clasificación \\n \\n \\n \\n \\n Estados Unidos \\n \\n \\n  Calendario y resultados  \\n \\n \\n Clasificación \\n \\n \\n \\n \\n México \\n \\n \\n Calendario y Resultados \\n \\n \\n Clasificación \\n \\n \\n \\n \\n Venezuela \\n \\n \\n Calendario y resultados \\n \\n \\n Clasificación \\n \\n \\n \\n \\n Más América \\n \\n \\n Copa Libertadores \\n \\n \\n Copa América \\n \\n \\n \\n \\n \\n \\n \\n \\n \\n \\n Destacamos \\n \\n \\n Atletismo \\n \\n \\n Balonmano \\n \\n \\n Ciclismo \\n \\n \\n Deportes Invierno \\n \\n \\n Golf \\n \\n \\n LaLigaSportsTV \\n \\n \\n Natación \\n \\n \\n \\n \\n \\n \\n Pádel \\n \\n \\n Tenis \\n \\n \\n Turf \\n \\n \\n \\n \\n Y además \\n \\n \\n Ajedrez \\n \\n \\n Boxeo \\n \\n \\n MMA \\n \\n \\n Copa del Rey de MAPFRE \\n \\n \\n Deportes Aventura \\n \\n \\n eSports \\n \\n \\n NFL \\n \\n \\n \\n \\n \\n \\n Olimpismo \\n \\n \\n Otros deportes \\n \\n \\n Paralímpicos \\n \\n \\n Rugby \\n \\n \\n Toros \\n \\n \\n Triatlon \\n \\n \\n \\n \\n \\n Real Sociedad Odegaard: \"Mi meta es triunfar en la Real y jugar algún día en el Madrid\" Real Sociedad \\xa0 Entrevista exclusiva con el crack noruego, cedido por el Real Madrid Óscar Badallo Compartir en Facebook Compartir en Twitter Enviar por email \\n23/07/2019  07:43  CEST Odegaard: \"Mi meta es triunfar en la Real y jugar algún día en el Madrid\"     In English  146  comentarios Comentar TE PUEDE INTERESAR El test a Odegaard: devorador de series y fan de la Casa de Papel M artin Odegaard sueña con triunfar en la Real Sociedad y en la Liga, en los dos cursos que va a estar cedido, y conseguir hacer realidad luego su meta de jugar en el Real Madrid. El crack noruego recordó con MARCA su debut como blanco, sustituyendo a Cristiano, y confesó las expectativas tan altas que se pone como txuriurdin. Pregunta. Segundo amistoso de la pretemporada el sábado pasado y primera derrota, 0-1 contra el Racing de Santander. ¿Qué valoración hace? Respuesta.  Pienso que nuestra primera media hora fue muy buena, que controlamos el partido y tuvimos un montón de oportunidades, que pudimos marcar varios goles, pero no lo hicimos y ellos sí lo lograron, con un poco de suerte. Y que la segunda parte fue más difícil, aunque al final de nuevo fuimos superiores, pero no pudimos marcar. La suerte es que fue un amistoso y que podemos mejorar de cara al inicio de temporada. P. El culpable de que la Real no ganase fue Luca Zidane, que hizo muy buenas paradas. Coincidieron en el Real Madrid. ¿Hablaron algo? R. Le conozco muy bien, porque entrenamos juntos con el primer equipo y jugamos con el segundo. El sábado hizo un muy buen partido, con muy buenas paradas y usando bien los pies a la hora de jugar. Hablamos algo después del partido, hablando de nuestras cosas, de cómo nos iba en nuestros nuevos equipos. Estuvo bien volver a vernos de nuevo. P. ¿Y usted qué le dijo de cómo le va en la Real y en San Sebastián? R. Le dijo que me siento muy bien. Los compañeros, los entrenadores y toda la gente del club me está haciendo sentir muy cómodo. Los entrenamientos son buenos, trabajamos duro. Excepto el último partido, todo ha ido muy bien. Y en ese partido también hubo cosas positivas. P. ¿Cómo fue su fichaje por la Real? ¿Por qué se decidió por el club txuriurdin, de entre las muchas ofertas que tenía? R. Después de la última temporada, tenía varias opciones, había muchos equipos interesados en mí. Es verdad que hablé con algunos, entre ellos de la Real, y desde la primera reunión con la gente de aquí tuve buen feeling sobre el proyecto, la idea que tenían sobre mí, el club... El Real Madrid me dijo que había varias posibilidades para escoger y yo desde el primer minuto había pensado en la Real por su proyecto. Tuve muchas ofertas, incluso de Champions, pero sentí feeling por la Real desde el primer minuto\" Martin Odegaard P. ¿Qué conocía de la Real? R. Vi muchos partidos de la Liga en la pasada temporada, me gusta el fútbol español, y de la Real me gustó su estilo de juego, su presión, la idea de controlar el balón... Y, cuando hablé con el entrenador y con la gente del club, pensé que era mi mejor elección. Conocía personalmente a Illarramendi y a Llorente, pero por supuesto que a otros muchos jugadores, de verlos por la tele. Aquí hay muchos jugadores de alto nivel. P. Se dijo que una de las ofertas era del Bayer Leverkusen, que va a jugar la Champions. ¿Por qué no jugar la máxima competición continental? R.  No voy a especificar los nombres de los clubes, pero sí que había opciones de algunos que están en la Champions y la Europa League, pero para mí lo más importante era sentirme cómodo en mi nuevo equipo, con el entrenador, con el proyecto, y por eso elegí venir aquí. ¿Presión del Real Madrid? Me hablaron obviamente de los clubes que había, pero la decisión de ir a uno de ellos me la dejaron a mí. P. Vuelve a a Liga, en la que debutó hace cuatro años, con sólo 16, en el Bernabéu y sustituyendo, nada más y nada menos, que a Cristiano. ¿Qué recuerda? R.  Fue un momento muy especial, un sueño hecho realidad. Me habían dicho antes del partido que iba a jugar los últimos 30 minutos, pero hacerlo y sustituir a Cristiano fue espectacular. Fue una gran experiencia entrenar con los mejores jugadores, ver cómo trabajaban, intentaba fijarme en cada detalle y mejorar. ¡Era increíble a los 16 años estar con los mejores del mundo! El test de MARCA a Odegaard: devorador de series y fan de la Casa de Papel  P. Barrenetxea es un caso parecido al suyo. ¿Le conoce? ¿Qué le diría? R. Por supuesto que le he visto jugar varios partidos la pasada temporada y tiene un gran talento, pienso que tiene un gran futuro por delante. Aún no le conozco, porque está con la selección sub 19, y tampoco soy quien para darle consejos, pero le diría que trabaje duro, que todo le llegará de manera natural. P. Su cesión fue anunciada por un año, pero desde la Real se dice que es por dos. ¿Cómo lo explica? R. La idea es estar dos años. P. En el primero no hay Europa. ¿El objetivo es que se juegue en el segundo? R. Sí, por supuesto. El objetivo es que el año que viene juguemos competición europea. El campo es nuevo y vamos a tener el apoyo de muchos fans. Entre todos lo podemos conseguir. P. ¿Y después? R. Yo tengo contrato con el Real Madrid, lo he ampliado antes de venir a la Real, y mi meta es jugar un día en el Real Madrid, pero ahora creo que el mejor paso para mí es hacerlo en la Real. Quiero dar mi mejor nivel en la Real, ese es mi objetivo principal, y luego ya se verá, pero claro que sueño con jugar algún día en el Real Madrid. P. ¿Le han seguido estos años que ha estado en Holanda? ¿Esperaba su llamada? R. Necesitaba jugar y estos años en Holanda han sido muy buenos, porque además el Real Madrid me decía que veía mis partidos, que me seguían. Pero hay un gran paso de jugar en Holanda a hacerlo en el Real Madrid, donde es muy difícil, porque hay muchos jugadores muy buenos. Venir a la Real puede ser un buen paso. P. El entrenador del Real Madrid es Zidane, que le dirigió en su etapa en el Castilla. ¿Qué me dice de él? R. Pienso que es un entrenador genial. Su trabajo al frente del primer equipo, ganando tres Champions, es excepcional. Y, en el segundo equipo, aprendí mucho de él. Esa es una de las decisiones por las que he renovado con el Real Madrid. Zidane, además, jugó en mi posición. Es muy especial para mí. P. En la Real Sociedad está Imanol al frente. ¿Qué opinión le merece? R. Muy buena. Estoy muy bien, me gustan mucho sus entrenamientos. Es duro, le gusta trabajar a tope, pero casi siempre con el balón. Me gusta su forma de ser, entrenar con él. ¿Muy diferente a Zidane? Puede que sean algo distintos en su personalidad, pero son similares en cuanto a la idea de juego. P. Imanol aún no ha hablado en rueda de prensa esta pretemporada, pero sí lo han hecho algunos de sus nuevos compañeros, y lo han hecho bien de usted. ¿Qué le parece? R. Por supuesto que está muy bien que uno llegue nuevo a un sitio y hablen bien de él. Me hace feliz escuchar esas cosas. ¿Qué Illarra dijo que he mejorado en defensa? Creo que he progresado en algunas, entre ellas la defensa. P. Entonces, para terminar, ¿qué desea para esta temporada? R. A nivel individual, es un bonito salto pasar de Holanda a España, y me gustaría dar mis mejores prestaciones para ayudar al equipo, que espero pueda ir a Europa. Ahora sí que se puede decir que voy a jugar de verdad en la Liga y eso me motiva mucho. P. Y el Real Madrid, ¿superará la baja de Cristiano y volverá a ganar títulos? R. Es verdad que es difícil sustituir un jugador como él, que no es posible encontrar a otro, pero ha vuelto Zidane, han fichado grandes jugadores y espero y creo que va a ser para ellos un buen año. Temas relacionados Real Sociedad Primera División Real Madrid \\n \\n 146  Comentarios \\n \\n \\n \\n \\n Pacooo \\n \\n #2 \\n \\n 23/07/2019 \\n 07:51 horas \\n \\n En la Real Sociedad se van a sorprender para bien con Odegaard,es muy bueno. \\n \\n \\n \\n \\n Davis_ \\n \\n #6 \\n \\n 23/07/2019 \\n 07:56 horas \\n \\n @enz0666  #3 Cerrar Todos los fichajes del Real Madrid son criticados por los ardidos fanáticos radicales, pero esta vez han cometido un error... Son muy jóvenes y aún les queda mucho tiempo por delante para callar bocas...  efectivamente, muchos daban daban por muerto y perdido a este chaval, cuando aún tiene 20 años y ha destacado en la Liga Holandesa con el Vitesse, teniendo buenos números. Por otra parte, no dicen nada de Halilovic, que ni sabe Dios por dónde andará. \\n \\n \\n \\nVer  146  Comentarios\\n \\nComenta\\n Volver a la noticia  Odegaard: \"Mi meta es triunfar en la Real y jugar algún día en el Madrid\"    \\n \\n Cargando siguiente contenido \\n \\n \\n \\n \\nOtras webs de Unidad Editorial\\n \\n \\n \\n \\n \\n \\n \\n Marca   \\n App Marca \\n Clasificación LaLiga \\n Calendario LaLiga \\n Hemeroteca Marca \\n Marca eSports \\n Marca en Orbyt \\n Descuentos MARCA \\n \\n \\n \\n \\n \\n Ocio y Moda   \\n Tiramillas \\n Moda - Telva \\n BUHO Magazine \\n Traductor \\n Programación TV \\n Marca Entradas \\n Mi bebé y yo \\n \\n \\n Unidad Editorial   \\n El Mundo \\n Expansión \\n CuídatePlus \\n Diario Médico \\n Correo Farmacéutico \\n Suscripción Marca \\n Suscripción El Mundo \\n \\n \\n Formación y Empleo   \\n Escuela Unidad Editorial \\n Unidad Editorial \\n Expansión y Empleo \\n \\n \\n \\n \\n \\n \\n \\n \\n © Julio\\n2019\\n  Unidad Editorial Información Deportiva, S.L.U. Todos los derechos reservados. \\n \\n Términos y condiciones de uso \\n Política de privacidad \\n Política de cookies \\n Certificado por OJD \\n Contacto \\n Publicidad \\n Ayuda \\n Nuestro equipo \\n Venta de contenidos \\n \\n \\n Síguenos en \\n \\n Facebook \\n Twitter \\n RSS \\n \\n \\n \\n \\n \\n \\n \\n España \\n \\n \\n Liga Endesa \\n \\n \\n Calendario \\n \\n \\n Clasificación \\n \\n \\n Playoffs \\n \\n \\n \\n \\n Basket FEB \\n \\n \\n LEB Oro \\n \\n \\n LEB Plata \\n \\n \\n Liga Femenina \\n \\n \\n \\n \\n Copa del Rey \\n \\n \\n Cuadro y resultados \\n \\n \\n \\n \\n Selección \\n \\n \\n Mundial 2019 \\n \\n \\n \\n \\n Europa \\n \\n \\n Euroliga \\n \\n \\n Clasificación \\n \\n \\n Calendario \\n \\n \\n \\n \\n Eurocup \\n \\n \\n Resultados y Clasificación \\n \\n \\n \\n \\n Champions League \\n \\n \\n Resultados y Clasificación \\n \\n \\n \\n \\n \\n \\n Internacional \\n \\n \\n NBA \\n \\n \\n Playoffs \\n \\n \\n Calendario \\n \\n \\n Clasificaciones \\n \\n \\n Equipos \\n \\n \\n \\n \\n \\n \\n \\n \\n \\n \\n Coches \\n \\n \\n Fórmula 1 \\n \\n \\n Calendario \\n \\n \\n Clasificación \\n \\n \\n \\n \\n Rally/Raids \\n \\n \\n Calendario \\n \\n \\n Clasificación pilotos \\n \\n \\n Clasificación equipos \\n \\n \\n \\n \\n Rally Dakar \\n \\n \\n Clasificaciones \\n \\n \\n Recorrido \\n \\n \\n Palmarés \\n \\n \\n \\n \\n \\n \\n Motos \\n \\n \\n Moto GP \\n \\n \\n Calendario \\n \\n \\n Pilotos \\n \\n \\n Clasificación \\n \\n \\n Moto2 \\n \\n \\n Moto3 \\n \\n \\n \\n \\n \\n \\n Modelos de coches \\n \\n \\n Modelos \\n \\n \\n Comparador de coches \\n \\n \\n Pruebas de coches \\n \\n \\n Ocio \\n \\n \\n Vídeos \\n \\n \\n \\n \\n Más motor \\n \\n \\n Mundial de Resistencia \\n \\n \\n 24 horas de Daytona \\n \\n \\n Indycar \\n \\n \\n 24 horas de Le Mans \\n \\n \\n \\n \\n \\n \\n \\n .banda_suscripcion .wrap a span.suscribete{font-weight:bold;background-color:#00b155;border:2px solid #c45050;color:white;} \\n \\n \\n \\nSuscríbete a Marca con un 30% de Descuento, y ¡Llévate una Tableta Gratis!  ¡LO QUIERO! \\n \\n \\n \\n \\n \\n \\n \\n  SiteCatalyst code version: H.21.  Copyright 1996-2010 Adobe, Inc. All Rights Reserved More info available at /web/20151202224104/http://www.omniture.com  \\n \\n \\n /DO NOT REMOVE/ \\n  End SiteCatalyst code version: H.21.  \\n '"
      ]
     },
     "execution_count": 24,
     "metadata": {},
     "output_type": "execute_result"
    }
   ],
   "source": [
    "output"
   ]
  },
  {
   "cell_type": "code",
   "execution_count": 25,
   "metadata": {},
   "outputs": [],
   "source": [
    "import re"
   ]
  },
  {
   "cell_type": "markdown",
   "metadata": {},
   "source": [
    "Quitar los saltos de línea"
   ]
  },
  {
   "cell_type": "code",
   "execution_count": 26,
   "metadata": {},
   "outputs": [],
   "source": [
    "output_clean = output.replace('\\n', ' ')"
   ]
  },
  {
   "cell_type": "code",
   "execution_count": 27,
   "metadata": {},
   "outputs": [
    {
     "data": {
      "text/plain": [
       "'Real Sociedad: Odegaard: \"Mi meta es triunfar en la Real y jugar algún día en el Madrid\" | Marca.com    ##FBEXCLU              Portada de Marca     Edición seleccionada   ES        Ediciones:          ES (España)           MX (México)           US (USA)           CO (Colombia)           AR (Argentina)           EN (English)               Escoge tu edición de Marca.com favorita       Siempre que entres en Marca.com se cargará esta edición          ES (España)            MX (México)            US (USA)            CO (Colombia)            AR (Argentina)              Confirmar         Suscríbete    Fútbol          Baloncesto          Motor          Polideportivo               Fichajes       eSports       CuídatePlus         Más Cerrar 23 de julio de 2019 Actualizado a las 07:56 h.  Buscar Cerrar Inicio Volver a: Fútbol LaLiga Santander Real Sociedad Noticias Fichajes Pretemporada Calendario Clasificación Plantilla y datos del club Buscador de bares Ranking Patrocinio Más Cerrar Futbol/real-sociedad Compartir en Facebook Compartir en Twitter Enviar por email       España       La Liga Santander       Resultados        Calendario         Clasificación        Premios Marca           LaLiga 1|2|3       Resultados       Calendario       Clasificación       Premios Marca           Más fútbol       Segunda B       Tercera       Danone Nations Cup           Copa del Rey       Calendario y Resultados           Fútbol Femenino       Liga Iberdrola       Calendario       Clasificación           Selección Española       Eurocopa 2020           Fútbol Sala       Calendario       Clasificación           Encuentra tu Bar Budweiser       Premios Marca           Internacional       Champions League       Calendario y Resultados           Europa League       Calendario y Resultados           International Champions Cup       Calendario       Clasificación           Premier League       Calendario y Resultados       Clasificación           Bundesliga       Calendario y Resultados       Clasificación           Calcio       Calendario y Resultados       Clasificación           Ligue 1       Calendario y Resultados       Clasificación           Otras ligas       Portugal       Holanda       Rusia               América       Copa América        Calendario y resultados            Argentina        Calendario y resultados         Clasificación            Chile       Calendario y resultados       Clasificación           Colombia        Calendario y resultados        Clasificación           Estados Unidos        Calendario y resultados        Clasificación           México       Calendario y Resultados       Clasificación           Venezuela       Calendario y resultados       Clasificación           Más América       Copa Libertadores       Copa América                       Destacamos       Atletismo       Balonmano       Ciclismo       Deportes Invierno       Golf       LaLigaSportsTV       Natación               Pádel       Tenis       Turf           Y además       Ajedrez       Boxeo       MMA       Copa del Rey de MAPFRE       Deportes Aventura       eSports       NFL               Olimpismo       Otros deportes       Paralímpicos       Rugby       Toros       Triatlon             Real Sociedad Odegaard: \"Mi meta es triunfar en la Real y jugar algún día en el Madrid\" Real Sociedad \\xa0 Entrevista exclusiva con el crack noruego, cedido por el Real Madrid Óscar Badallo Compartir en Facebook Compartir en Twitter Enviar por email  23/07/2019  07:43  CEST Odegaard: \"Mi meta es triunfar en la Real y jugar algún día en el Madrid\"     In English  146  comentarios Comentar TE PUEDE INTERESAR El test a Odegaard: devorador de series y fan de la Casa de Papel M artin Odegaard sueña con triunfar en la Real Sociedad y en la Liga, en los dos cursos que va a estar cedido, y conseguir hacer realidad luego su meta de jugar en el Real Madrid. El crack noruego recordó con MARCA su debut como blanco, sustituyendo a Cristiano, y confesó las expectativas tan altas que se pone como txuriurdin. Pregunta. Segundo amistoso de la pretemporada el sábado pasado y primera derrota, 0-1 contra el Racing de Santander. ¿Qué valoración hace? Respuesta.  Pienso que nuestra primera media hora fue muy buena, que controlamos el partido y tuvimos un montón de oportunidades, que pudimos marcar varios goles, pero no lo hicimos y ellos sí lo lograron, con un poco de suerte. Y que la segunda parte fue más difícil, aunque al final de nuevo fuimos superiores, pero no pudimos marcar. La suerte es que fue un amistoso y que podemos mejorar de cara al inicio de temporada. P. El culpable de que la Real no ganase fue Luca Zidane, que hizo muy buenas paradas. Coincidieron en el Real Madrid. ¿Hablaron algo? R. Le conozco muy bien, porque entrenamos juntos con el primer equipo y jugamos con el segundo. El sábado hizo un muy buen partido, con muy buenas paradas y usando bien los pies a la hora de jugar. Hablamos algo después del partido, hablando de nuestras cosas, de cómo nos iba en nuestros nuevos equipos. Estuvo bien volver a vernos de nuevo. P. ¿Y usted qué le dijo de cómo le va en la Real y en San Sebastián? R. Le dijo que me siento muy bien. Los compañeros, los entrenadores y toda la gente del club me está haciendo sentir muy cómodo. Los entrenamientos son buenos, trabajamos duro. Excepto el último partido, todo ha ido muy bien. Y en ese partido también hubo cosas positivas. P. ¿Cómo fue su fichaje por la Real? ¿Por qué se decidió por el club txuriurdin, de entre las muchas ofertas que tenía? R. Después de la última temporada, tenía varias opciones, había muchos equipos interesados en mí. Es verdad que hablé con algunos, entre ellos de la Real, y desde la primera reunión con la gente de aquí tuve buen feeling sobre el proyecto, la idea que tenían sobre mí, el club... El Real Madrid me dijo que había varias posibilidades para escoger y yo desde el primer minuto había pensado en la Real por su proyecto. Tuve muchas ofertas, incluso de Champions, pero sentí feeling por la Real desde el primer minuto\" Martin Odegaard P. ¿Qué conocía de la Real? R. Vi muchos partidos de la Liga en la pasada temporada, me gusta el fútbol español, y de la Real me gustó su estilo de juego, su presión, la idea de controlar el balón... Y, cuando hablé con el entrenador y con la gente del club, pensé que era mi mejor elección. Conocía personalmente a Illarramendi y a Llorente, pero por supuesto que a otros muchos jugadores, de verlos por la tele. Aquí hay muchos jugadores de alto nivel. P. Se dijo que una de las ofertas era del Bayer Leverkusen, que va a jugar la Champions. ¿Por qué no jugar la máxima competición continental? R.  No voy a especificar los nombres de los clubes, pero sí que había opciones de algunos que están en la Champions y la Europa League, pero para mí lo más importante era sentirme cómodo en mi nuevo equipo, con el entrenador, con el proyecto, y por eso elegí venir aquí. ¿Presión del Real Madrid? Me hablaron obviamente de los clubes que había, pero la decisión de ir a uno de ellos me la dejaron a mí. P. Vuelve a a Liga, en la que debutó hace cuatro años, con sólo 16, en el Bernabéu y sustituyendo, nada más y nada menos, que a Cristiano. ¿Qué recuerda? R.  Fue un momento muy especial, un sueño hecho realidad. Me habían dicho antes del partido que iba a jugar los últimos 30 minutos, pero hacerlo y sustituir a Cristiano fue espectacular. Fue una gran experiencia entrenar con los mejores jugadores, ver cómo trabajaban, intentaba fijarme en cada detalle y mejorar. ¡Era increíble a los 16 años estar con los mejores del mundo! El test de MARCA a Odegaard: devorador de series y fan de la Casa de Papel  P. Barrenetxea es un caso parecido al suyo. ¿Le conoce? ¿Qué le diría? R. Por supuesto que le he visto jugar varios partidos la pasada temporada y tiene un gran talento, pienso que tiene un gran futuro por delante. Aún no le conozco, porque está con la selección sub 19, y tampoco soy quien para darle consejos, pero le diría que trabaje duro, que todo le llegará de manera natural. P. Su cesión fue anunciada por un año, pero desde la Real se dice que es por dos. ¿Cómo lo explica? R. La idea es estar dos años. P. En el primero no hay Europa. ¿El objetivo es que se juegue en el segundo? R. Sí, por supuesto. El objetivo es que el año que viene juguemos competición europea. El campo es nuevo y vamos a tener el apoyo de muchos fans. Entre todos lo podemos conseguir. P. ¿Y después? R. Yo tengo contrato con el Real Madrid, lo he ampliado antes de venir a la Real, y mi meta es jugar un día en el Real Madrid, pero ahora creo que el mejor paso para mí es hacerlo en la Real. Quiero dar mi mejor nivel en la Real, ese es mi objetivo principal, y luego ya se verá, pero claro que sueño con jugar algún día en el Real Madrid. P. ¿Le han seguido estos años que ha estado en Holanda? ¿Esperaba su llamada? R. Necesitaba jugar y estos años en Holanda han sido muy buenos, porque además el Real Madrid me decía que veía mis partidos, que me seguían. Pero hay un gran paso de jugar en Holanda a hacerlo en el Real Madrid, donde es muy difícil, porque hay muchos jugadores muy buenos. Venir a la Real puede ser un buen paso. P. El entrenador del Real Madrid es Zidane, que le dirigió en su etapa en el Castilla. ¿Qué me dice de él? R. Pienso que es un entrenador genial. Su trabajo al frente del primer equipo, ganando tres Champions, es excepcional. Y, en el segundo equipo, aprendí mucho de él. Esa es una de las decisiones por las que he renovado con el Real Madrid. Zidane, además, jugó en mi posición. Es muy especial para mí. P. En la Real Sociedad está Imanol al frente. ¿Qué opinión le merece? R. Muy buena. Estoy muy bien, me gustan mucho sus entrenamientos. Es duro, le gusta trabajar a tope, pero casi siempre con el balón. Me gusta su forma de ser, entrenar con él. ¿Muy diferente a Zidane? Puede que sean algo distintos en su personalidad, pero son similares en cuanto a la idea de juego. P. Imanol aún no ha hablado en rueda de prensa esta pretemporada, pero sí lo han hecho algunos de sus nuevos compañeros, y lo han hecho bien de usted. ¿Qué le parece? R. Por supuesto que está muy bien que uno llegue nuevo a un sitio y hablen bien de él. Me hace feliz escuchar esas cosas. ¿Qué Illarra dijo que he mejorado en defensa? Creo que he progresado en algunas, entre ellas la defensa. P. Entonces, para terminar, ¿qué desea para esta temporada? R. A nivel individual, es un bonito salto pasar de Holanda a España, y me gustaría dar mis mejores prestaciones para ayudar al equipo, que espero pueda ir a Europa. Ahora sí que se puede decir que voy a jugar de verdad en la Liga y eso me motiva mucho. P. Y el Real Madrid, ¿superará la baja de Cristiano y volverá a ganar títulos? R. Es verdad que es difícil sustituir un jugador como él, que no es posible encontrar a otro, pero ha vuelto Zidane, han fichado grandes jugadores y espero y creo que va a ser para ellos un buen año. Temas relacionados Real Sociedad Primera División Real Madrid     146  Comentarios           Pacooo     #2     23/07/2019   07:51 horas     En la Real Sociedad se van a sorprender para bien con Odegaard,es muy bueno.           Davis_     #6     23/07/2019   07:56 horas     @enz0666  #3 Cerrar Todos los fichajes del Real Madrid son criticados por los ardidos fanáticos radicales, pero esta vez han cometido un error... Son muy jóvenes y aún les queda mucho tiempo por delante para callar bocas...  efectivamente, muchos daban daban por muerto y perdido a este chaval, cuando aún tiene 20 años y ha destacado en la Liga Holandesa con el Vitesse, teniendo buenos números. Por otra parte, no dicen nada de Halilovic, que ni sabe Dios por dónde andará.        Ver  146  Comentarios   Comenta  Volver a la noticia  Odegaard: \"Mi meta es triunfar en la Real y jugar algún día en el Madrid\"        Cargando siguiente contenido          Otras webs de Unidad Editorial                Marca     App Marca   Clasificación LaLiga   Calendario LaLiga   Hemeroteca Marca   Marca eSports   Marca en Orbyt   Descuentos MARCA             Ocio y Moda     Tiramillas   Moda - Telva   BUHO Magazine   Traductor   Programación TV   Marca Entradas   Mi bebé y yo       Unidad Editorial     El Mundo   Expansión   CuídatePlus   Diario Médico   Correo Farmacéutico   Suscripción Marca   Suscripción El Mundo       Formación y Empleo     Escuela Unidad Editorial   Unidad Editorial   Expansión y Empleo                   © Julio 2019   Unidad Editorial Información Deportiva, S.L.U. Todos los derechos reservados.     Términos y condiciones de uso   Política de privacidad   Política de cookies   Certificado por OJD   Contacto   Publicidad   Ayuda   Nuestro equipo   Venta de contenidos       Síguenos en     Facebook   Twitter   RSS                 España       Liga Endesa       Calendario       Clasificación       Playoffs           Basket FEB       LEB Oro       LEB Plata       Liga Femenina           Copa del Rey       Cuadro y resultados           Selección       Mundial 2019           Europa       Euroliga       Clasificación       Calendario           Eurocup       Resultados y Clasificación           Champions League       Resultados y Clasificación               Internacional       NBA       Playoffs       Calendario       Clasificaciones       Equipos                       Coches       Fórmula 1       Calendario       Clasificación           Rally/Raids       Calendario       Clasificación pilotos       Clasificación equipos           Rally Dakar       Clasificaciones       Recorrido       Palmarés               Motos       Moto GP       Calendario       Pilotos       Clasificación       Moto2       Moto3               Modelos de coches       Modelos       Comparador de coches       Pruebas de coches       Ocio       Vídeos           Más motor       Mundial de Resistencia       24 horas de Daytona       Indycar       24 horas de Le Mans                 .banda_suscripcion .wrap a span.suscribete{font-weight:bold;background-color:#00b155;border:2px solid #c45050;color:white;}        Suscríbete a Marca con un 30% de Descuento, y ¡Llévate una Tableta Gratis!  ¡LO QUIERO!                  SiteCatalyst code version: H.21.  Copyright 1996-2010 Adobe, Inc. All Rights Reserved More info available at /web/20151202224104/http://www.omniture.com        /DO NOT REMOVE/    End SiteCatalyst code version: H.21.    '"
      ]
     },
     "execution_count": 27,
     "metadata": {},
     "output_type": "execute_result"
    }
   ],
   "source": [
    "output_clean"
   ]
  },
  {
   "cell_type": "code",
   "execution_count": 28,
   "metadata": {},
   "outputs": [],
   "source": [
    "output_clean =re.sub(' +', ' ', output_clean)"
   ]
  },
  {
   "cell_type": "code",
   "execution_count": 29,
   "metadata": {},
   "outputs": [
    {
     "data": {
      "text/plain": [
       "'Real Sociedad: Odegaard: \"Mi meta es triunfar en la Real y jugar algún día en el Madrid\" | Marca.com ##FBEXCLU Portada de Marca Edición seleccionada ES Ediciones: ES (España) MX (México) US (USA) CO (Colombia) AR (Argentina) EN (English) Escoge tu edición de Marca.com favorita Siempre que entres en Marca.com se cargará esta edición ES (España) MX (México) US (USA) CO (Colombia) AR (Argentina) Confirmar Suscríbete Fútbol Baloncesto Motor Polideportivo Fichajes eSports CuídatePlus Más Cerrar 23 de julio de 2019 Actualizado a las 07:56 h. Buscar Cerrar Inicio Volver a: Fútbol LaLiga Santander Real Sociedad Noticias Fichajes Pretemporada Calendario Clasificación Plantilla y datos del club Buscador de bares Ranking Patrocinio Más Cerrar Futbol/real-sociedad Compartir en Facebook Compartir en Twitter Enviar por email España La Liga Santander Resultados Calendario Clasificación Premios Marca LaLiga 1|2|3 Resultados Calendario Clasificación Premios Marca Más fútbol Segunda B Tercera Danone Nations Cup Copa del Rey Calendario y Resultados Fútbol Femenino Liga Iberdrola Calendario Clasificación Selección Española Eurocopa 2020 Fútbol Sala Calendario Clasificación Encuentra tu Bar Budweiser Premios Marca Internacional Champions League Calendario y Resultados Europa League Calendario y Resultados International Champions Cup Calendario Clasificación Premier League Calendario y Resultados Clasificación Bundesliga Calendario y Resultados Clasificación Calcio Calendario y Resultados Clasificación Ligue 1 Calendario y Resultados Clasificación Otras ligas Portugal Holanda Rusia América Copa América Calendario y resultados Argentina Calendario y resultados Clasificación Chile Calendario y resultados Clasificación Colombia Calendario y resultados Clasificación Estados Unidos Calendario y resultados Clasificación México Calendario y Resultados Clasificación Venezuela Calendario y resultados Clasificación Más América Copa Libertadores Copa América Destacamos Atletismo Balonmano Ciclismo Deportes Invierno Golf LaLigaSportsTV Natación Pádel Tenis Turf Y además Ajedrez Boxeo MMA Copa del Rey de MAPFRE Deportes Aventura eSports NFL Olimpismo Otros deportes Paralímpicos Rugby Toros Triatlon Real Sociedad Odegaard: \"Mi meta es triunfar en la Real y jugar algún día en el Madrid\" Real Sociedad \\xa0 Entrevista exclusiva con el crack noruego, cedido por el Real Madrid Óscar Badallo Compartir en Facebook Compartir en Twitter Enviar por email 23/07/2019 07:43 CEST Odegaard: \"Mi meta es triunfar en la Real y jugar algún día en el Madrid\" In English 146 comentarios Comentar TE PUEDE INTERESAR El test a Odegaard: devorador de series y fan de la Casa de Papel M artin Odegaard sueña con triunfar en la Real Sociedad y en la Liga, en los dos cursos que va a estar cedido, y conseguir hacer realidad luego su meta de jugar en el Real Madrid. El crack noruego recordó con MARCA su debut como blanco, sustituyendo a Cristiano, y confesó las expectativas tan altas que se pone como txuriurdin. Pregunta. Segundo amistoso de la pretemporada el sábado pasado y primera derrota, 0-1 contra el Racing de Santander. ¿Qué valoración hace? Respuesta. Pienso que nuestra primera media hora fue muy buena, que controlamos el partido y tuvimos un montón de oportunidades, que pudimos marcar varios goles, pero no lo hicimos y ellos sí lo lograron, con un poco de suerte. Y que la segunda parte fue más difícil, aunque al final de nuevo fuimos superiores, pero no pudimos marcar. La suerte es que fue un amistoso y que podemos mejorar de cara al inicio de temporada. P. El culpable de que la Real no ganase fue Luca Zidane, que hizo muy buenas paradas. Coincidieron en el Real Madrid. ¿Hablaron algo? R. Le conozco muy bien, porque entrenamos juntos con el primer equipo y jugamos con el segundo. El sábado hizo un muy buen partido, con muy buenas paradas y usando bien los pies a la hora de jugar. Hablamos algo después del partido, hablando de nuestras cosas, de cómo nos iba en nuestros nuevos equipos. Estuvo bien volver a vernos de nuevo. P. ¿Y usted qué le dijo de cómo le va en la Real y en San Sebastián? R. Le dijo que me siento muy bien. Los compañeros, los entrenadores y toda la gente del club me está haciendo sentir muy cómodo. Los entrenamientos son buenos, trabajamos duro. Excepto el último partido, todo ha ido muy bien. Y en ese partido también hubo cosas positivas. P. ¿Cómo fue su fichaje por la Real? ¿Por qué se decidió por el club txuriurdin, de entre las muchas ofertas que tenía? R. Después de la última temporada, tenía varias opciones, había muchos equipos interesados en mí. Es verdad que hablé con algunos, entre ellos de la Real, y desde la primera reunión con la gente de aquí tuve buen feeling sobre el proyecto, la idea que tenían sobre mí, el club... El Real Madrid me dijo que había varias posibilidades para escoger y yo desde el primer minuto había pensado en la Real por su proyecto. Tuve muchas ofertas, incluso de Champions, pero sentí feeling por la Real desde el primer minuto\" Martin Odegaard P. ¿Qué conocía de la Real? R. Vi muchos partidos de la Liga en la pasada temporada, me gusta el fútbol español, y de la Real me gustó su estilo de juego, su presión, la idea de controlar el balón... Y, cuando hablé con el entrenador y con la gente del club, pensé que era mi mejor elección. Conocía personalmente a Illarramendi y a Llorente, pero por supuesto que a otros muchos jugadores, de verlos por la tele. Aquí hay muchos jugadores de alto nivel. P. Se dijo que una de las ofertas era del Bayer Leverkusen, que va a jugar la Champions. ¿Por qué no jugar la máxima competición continental? R. No voy a especificar los nombres de los clubes, pero sí que había opciones de algunos que están en la Champions y la Europa League, pero para mí lo más importante era sentirme cómodo en mi nuevo equipo, con el entrenador, con el proyecto, y por eso elegí venir aquí. ¿Presión del Real Madrid? Me hablaron obviamente de los clubes que había, pero la decisión de ir a uno de ellos me la dejaron a mí. P. Vuelve a a Liga, en la que debutó hace cuatro años, con sólo 16, en el Bernabéu y sustituyendo, nada más y nada menos, que a Cristiano. ¿Qué recuerda? R. Fue un momento muy especial, un sueño hecho realidad. Me habían dicho antes del partido que iba a jugar los últimos 30 minutos, pero hacerlo y sustituir a Cristiano fue espectacular. Fue una gran experiencia entrenar con los mejores jugadores, ver cómo trabajaban, intentaba fijarme en cada detalle y mejorar. ¡Era increíble a los 16 años estar con los mejores del mundo! El test de MARCA a Odegaard: devorador de series y fan de la Casa de Papel P. Barrenetxea es un caso parecido al suyo. ¿Le conoce? ¿Qué le diría? R. Por supuesto que le he visto jugar varios partidos la pasada temporada y tiene un gran talento, pienso que tiene un gran futuro por delante. Aún no le conozco, porque está con la selección sub 19, y tampoco soy quien para darle consejos, pero le diría que trabaje duro, que todo le llegará de manera natural. P. Su cesión fue anunciada por un año, pero desde la Real se dice que es por dos. ¿Cómo lo explica? R. La idea es estar dos años. P. En el primero no hay Europa. ¿El objetivo es que se juegue en el segundo? R. Sí, por supuesto. El objetivo es que el año que viene juguemos competición europea. El campo es nuevo y vamos a tener el apoyo de muchos fans. Entre todos lo podemos conseguir. P. ¿Y después? R. Yo tengo contrato con el Real Madrid, lo he ampliado antes de venir a la Real, y mi meta es jugar un día en el Real Madrid, pero ahora creo que el mejor paso para mí es hacerlo en la Real. Quiero dar mi mejor nivel en la Real, ese es mi objetivo principal, y luego ya se verá, pero claro que sueño con jugar algún día en el Real Madrid. P. ¿Le han seguido estos años que ha estado en Holanda? ¿Esperaba su llamada? R. Necesitaba jugar y estos años en Holanda han sido muy buenos, porque además el Real Madrid me decía que veía mis partidos, que me seguían. Pero hay un gran paso de jugar en Holanda a hacerlo en el Real Madrid, donde es muy difícil, porque hay muchos jugadores muy buenos. Venir a la Real puede ser un buen paso. P. El entrenador del Real Madrid es Zidane, que le dirigió en su etapa en el Castilla. ¿Qué me dice de él? R. Pienso que es un entrenador genial. Su trabajo al frente del primer equipo, ganando tres Champions, es excepcional. Y, en el segundo equipo, aprendí mucho de él. Esa es una de las decisiones por las que he renovado con el Real Madrid. Zidane, además, jugó en mi posición. Es muy especial para mí. P. En la Real Sociedad está Imanol al frente. ¿Qué opinión le merece? R. Muy buena. Estoy muy bien, me gustan mucho sus entrenamientos. Es duro, le gusta trabajar a tope, pero casi siempre con el balón. Me gusta su forma de ser, entrenar con él. ¿Muy diferente a Zidane? Puede que sean algo distintos en su personalidad, pero son similares en cuanto a la idea de juego. P. Imanol aún no ha hablado en rueda de prensa esta pretemporada, pero sí lo han hecho algunos de sus nuevos compañeros, y lo han hecho bien de usted. ¿Qué le parece? R. Por supuesto que está muy bien que uno llegue nuevo a un sitio y hablen bien de él. Me hace feliz escuchar esas cosas. ¿Qué Illarra dijo que he mejorado en defensa? Creo que he progresado en algunas, entre ellas la defensa. P. Entonces, para terminar, ¿qué desea para esta temporada? R. A nivel individual, es un bonito salto pasar de Holanda a España, y me gustaría dar mis mejores prestaciones para ayudar al equipo, que espero pueda ir a Europa. Ahora sí que se puede decir que voy a jugar de verdad en la Liga y eso me motiva mucho. P. Y el Real Madrid, ¿superará la baja de Cristiano y volverá a ganar títulos? R. Es verdad que es difícil sustituir un jugador como él, que no es posible encontrar a otro, pero ha vuelto Zidane, han fichado grandes jugadores y espero y creo que va a ser para ellos un buen año. Temas relacionados Real Sociedad Primera División Real Madrid 146 Comentarios Pacooo #2 23/07/2019 07:51 horas En la Real Sociedad se van a sorprender para bien con Odegaard,es muy bueno. Davis_ #6 23/07/2019 07:56 horas @enz0666 #3 Cerrar Todos los fichajes del Real Madrid son criticados por los ardidos fanáticos radicales, pero esta vez han cometido un error... Son muy jóvenes y aún les queda mucho tiempo por delante para callar bocas... efectivamente, muchos daban daban por muerto y perdido a este chaval, cuando aún tiene 20 años y ha destacado en la Liga Holandesa con el Vitesse, teniendo buenos números. Por otra parte, no dicen nada de Halilovic, que ni sabe Dios por dónde andará. Ver 146 Comentarios Comenta Volver a la noticia Odegaard: \"Mi meta es triunfar en la Real y jugar algún día en el Madrid\" Cargando siguiente contenido Otras webs de Unidad Editorial Marca App Marca Clasificación LaLiga Calendario LaLiga Hemeroteca Marca Marca eSports Marca en Orbyt Descuentos MARCA Ocio y Moda Tiramillas Moda - Telva BUHO Magazine Traductor Programación TV Marca Entradas Mi bebé y yo Unidad Editorial El Mundo Expansión CuídatePlus Diario Médico Correo Farmacéutico Suscripción Marca Suscripción El Mundo Formación y Empleo Escuela Unidad Editorial Unidad Editorial Expansión y Empleo © Julio 2019 Unidad Editorial Información Deportiva, S.L.U. Todos los derechos reservados. Términos y condiciones de uso Política de privacidad Política de cookies Certificado por OJD Contacto Publicidad Ayuda Nuestro equipo Venta de contenidos Síguenos en Facebook Twitter RSS España Liga Endesa Calendario Clasificación Playoffs Basket FEB LEB Oro LEB Plata Liga Femenina Copa del Rey Cuadro y resultados Selección Mundial 2019 Europa Euroliga Clasificación Calendario Eurocup Resultados y Clasificación Champions League Resultados y Clasificación Internacional NBA Playoffs Calendario Clasificaciones Equipos Coches Fórmula 1 Calendario Clasificación Rally/Raids Calendario Clasificación pilotos Clasificación equipos Rally Dakar Clasificaciones Recorrido Palmarés Motos Moto GP Calendario Pilotos Clasificación Moto2 Moto3 Modelos de coches Modelos Comparador de coches Pruebas de coches Ocio Vídeos Más motor Mundial de Resistencia 24 horas de Daytona Indycar 24 horas de Le Mans .banda_suscripcion .wrap a span.suscribete{font-weight:bold;background-color:#00b155;border:2px solid #c45050;color:white;} Suscríbete a Marca con un 30% de Descuento, y ¡Llévate una Tableta Gratis! ¡LO QUIERO! SiteCatalyst code version: H.21. Copyright 1996-2010 Adobe, Inc. All Rights Reserved More info available at /web/20151202224104/http://www.omniture.com /DO NOT REMOVE/ End SiteCatalyst code version: H.21. '"
      ]
     },
     "execution_count": 29,
     "metadata": {},
     "output_type": "execute_result"
    }
   ],
   "source": [
    "output_clean"
   ]
  },
  {
   "cell_type": "markdown",
   "metadata": {},
   "source": [
    "## NLP con spaCy"
   ]
  },
  {
   "cell_type": "code",
   "execution_count": 30,
   "metadata": {},
   "outputs": [],
   "source": [
    "nlp= spacy.load(\"es_core_news_sm\")"
   ]
  },
  {
   "cell_type": "code",
   "execution_count": 31,
   "metadata": {},
   "outputs": [],
   "source": [
    "doc = nlp(output_clean)"
   ]
  },
  {
   "cell_type": "code",
   "execution_count": 32,
   "metadata": {},
   "outputs": [
    {
     "name": "stdout",
     "output_type": "stream",
     "text": [
      "Sintagmas Nominales: ['Real Sociedad', 'Odegaard', 'Mi meta', 'la Real', 'algún día', 'el Madrid', 'Marca.com', '#', '#', 'FBEXCLU', 'Portada', 'Marca Edición', 'Ediciones', 'ES', 'España', 'MX', 'México', 'US', 'USA', 'CO', 'Colombia', 'AR', 'Argentina', 'EN', 'English', 'Escoge', 'tu edición', 'Marca.com', 'entres', 'Marca.com', 'se', 'esta edición', 'España', 'MX', 'México', 'US', 'USA', 'CO', 'Colombia', 'AR', 'Argentina', 'Confirmar Suscríbete Fútbol Baloncesto Motor Polideportivo Fichajes eSports CuídatePlus Más Cerrar 23 de julio de 2019 Actualizado', 'h.', 'Buscar Cerrar Inicio Volver', 'Fútbol LaLiga Santander Real Sociedad Noticias Fichajes Pretemporada Calendario Clasificación Plantilla', 'datos', 'club', 'Buscador', 'bares', 'Ranking Patrocinio Más Cerrar Futbol', 'sociedad', 'Compartir', 'Facebook Compartir', 'Twitter Enviar', 'email', 'España La Liga Santander Resultados Calendario Clasificación Premios Marca LaLiga 1|2|3 Resultados Calendario Clasificación Premios Marca Más fútbol Segunda B Tercera Danone Nations Cup Copa del Rey Calendario y Resultados Fútbol Femenino Liga Iberdrola Calendario Clasificación Selección Española Eurocopa 2020 Fútbol Sala Calendario Clasificación Encuentra tu Bar Budweiser Premios Marca Internacional Champions League Calendario', 'Resultados Europa League Calendario', 'Resultados International Champions Cup Calendario Clasificación Premier League Calendario', 'Resultados Clasificación Bundesliga Calendario', 'Resultados Clasificación Calcio Calendario', 'Resultados Clasificación Ligue 1 Calendario', 'Resultados Clasificación Otras', 'ligas', 'Portugal Holanda Rusia América Copa América Calendario', 'resultados', 'Argentina Calendario', 'resultados', 'Clasificación Chile Calendario', 'resultados', 'Clasificación Colombia Calendario', 'resultados', 'Clasificación Estados Unidos Calendario', 'resultados', 'Clasificación México Calendario', 'Resultados Clasificación Venezuela Calendario', 'resultados', 'Clasificación Más América Copa Libertadores Copa América Destacamos Atletismo Balonmano Ciclismo Deportes Invierno Golf LaLigaSportsTV Natación Pádel Tenis Turf', 'Ajedrez Boxeo MMA Copa del Rey de MAPFRE Deportes Aventura eSports NFL Olimpismo Otros deportes Paralímpicos Rugby Toros Triatlon Real Sociedad Odegaard', 'Mi meta', 'la Real', 'algún día', 'el Madrid', 'Real Sociedad \\xa0 Entrevista', 'el crack', 'el Real Madrid Óscar Badallo Compartir', 'Facebook Compartir', 'Twitter Enviar', 'email', 'CEST Odegaard', 'Mi meta', 'la Real', 'algún día', 'el Madrid', 'English', 'comentarios', 'Comentar TE PUEDE', 'INTERESAR', 'El test', 'Odegaard', 'devorador', 'series', 'fan', 'la Casa de Papel M artin Odegaard', 'la Real Sociedad', 'la Liga', 'los dos cursos', 'que', 'realidad', 'su meta', 'el Real Madrid', 'El crack', 'MARCA', 'su debut', 'blanco', 'Cristiano', 'las expectativas', 'que', 'se', 'txuriurdin', 'la pretemporada', 'el sábado', 'derrota', 'el Racing de Santander', 'Qué valoración', 'Respuesta', 'nuestra primera media hora', 'que', 'el partido', 'un montón', 'oportunidades', 'que', 'varios goles', 'lo', 'ellos', 'lo', 'un poco', 'suerte', 'la segunda parte', 'final', 'fuimos', 'La suerte', 'cara', 'inicio', 'temporada', 'P.', 'la Real', 'Luca Zidane', 'que', 'paradas', 'el Real Madrid', 'algo', 'R. Le', 'el primer equipo', 'El sábado', 'un muy buen partido', 'paradas', 'los pies', 'la hora', 'algo', 'partido', 'nuestras cosas', 'cómo', 'nos', 'nuestros nuevos equipos', 'vernos', 'P.', 'usted', 'qué', 'le', 'cómo', 'le', 'la Real', 'San Sebastián', 'R.', 'Le', 'me', 'Los compañeros', 'los entrenadores', 'la gente', 'club', 'me', 'Los entrenamientos', 'el último partido', 'todo', 'ese partido', 'cosas', 'P.', 'Cómo', 'su fichaje', 'la Real', 'qué', 'se', 'el club', 'las muchas ofertas', 'que', 'R. Después', 'la última temporada', 'varias opciones', 'muchos equipos', 'mí', 'verdad', 'algunos', 'ellos', 'la Real', 'la primera reunión', 'la gente', 'feeling', 'el proyecto', 'la idea', 'que', 'mí', 'el club', 'El Real Madrid', 'me', 'varias posibilidades', 'yo', 'el primer minuto', 'la Real', 'su proyecto', 'muchas ofertas', 'Champions', 'feeling', 'la Real', 'el primer minuto', 'Martin Odegaard P.', 'Qué', 'la Real', 'R. Vi muchos partidos', 'la Liga', 'la pasada temporada', 'me', 'el fútbol', 'la Real', 'me', 'su estilo', 'juego', 'su presión', 'la idea', 'el balón', 'el entrenador', 'la gente', 'club', 'mi mejor elección', 'Illarramendi', 'Llorente', 'supuesto', 'otros muchos jugadores', 'verlos', 'la tele', 'muchos jugadores', 'nivel', 'P.', 'Se', 'una', 'las ofertas', 'Bayer Leverkusen', 'que', 'la Champions', 'qué', 'la máxima competición', 'R.', 'los nombres', 'los clubes', 'opciones', 'algunos', 'que', 'la Champions', 'la Europa League', 'mí', 'mi nuevo equipo', 'el entrenador', 'el proyecto', 'eso', 'Presión del Real Madrid', 'Me', 'los clubes', 'que', 'la decisión', 'uno', 'ellos', 'me', 'la', 'mí', 'P. Vuelve a a Liga', 'la que', 'años', 'el Bernabéu', 'nada', 'nada', 'que', 'Cristiano', 'Qué', 'R.', 'un momento', 'un sueño', 'realidad', 'Me', 'partido', 'que', 'minutos', 'hacerlo', 'Cristiano', 'una gran experiencia', 'los mejores jugadores', 'cómo', 'cada detalle', 'años', 'mundo', 'El test', 'MARCA', 'Odegaard', 'devorador', 'series', 'fan', 'la Casa de Papel P. Barrenetxea', 'un caso', 'Le', 'Qué', 'le', 'R.', 'supuesto', 'le', 'varios partidos', 'la pasada temporada', 'un gran talento', 'un gran futuro', 'le', 'la selección', 'sub', 'quien', 'consejos', 'le', 'trabaje', 'que', 'todo', 'le', 'manera', 'P.', 'Su cesión', 'un año', 'la Real', 'se', 'Cómo', 'lo', 'La idea', 'años', 'P.', 'Europa', 'El objetivo', 'se', 'R. Sí', 'supuesto', 'El objetivo', 'el año', 'que', 'competición', 'El campo', 'el apoyo', 'muchos fans', 'todos', 'todos lo', 'P.', 'R. Yo', 'contrato', 'el Real Madrid', 'lo', 'la Real', 'mi meta', 'un día', 'el Real Madrid', 'el mejor paso', 'mí', 'hacerlo', 'la Real', 'mi mejor nivel', 'la Real', 'ese', 'mi objetivo', 'se', 'sueño', 'algún día', 'el Real Madrid', 'P.', 'Le', 'estos años', 'que', 'Holanda', 'su llamada', 'R. Necesitaba', 'estos años', 'Holanda', 'el Real Madrid', 'me', 'mis partidos', 'que', 'me', 'un gran paso', 'Holanda', 'hacerlo', 'el Real Madrid', 'donde', 'muchos jugadores', 'la Real', 'un buen paso', 'P.', 'El entrenador', 'Real Madrid', 'Zidane', 'que', 'le', 'su etapa', 'el Castilla', 'Qué', 'me', 'él', 'R. Pienso', 'un entrenador', 'Su trabajo', 'frente', 'equipo', 'Champions', 'el segundo equipo', 'él', 'Esa', 'una', 'las decisiones', 'las que', 'el Real Madrid', 'Zidane', 'mi posición', 'mí', 'P.', 'la Real Sociedad', 'Imanol', 'frente', 'Qué opinión', 'le', 'R.', 'me', 'sus entrenamientos', 'le', 'tope', 'el balón', 'Me', 'su forma', 'él', 'Zidane', 'algo', 'su personalidad', 'cuanto', 'la idea', 'juego', 'P. Imanol', 'rueda', 'prensa', 'esta pretemporada', 'lo', 'algunos', 'sus nuevos compañeros', 'lo', 'usted', 'Qué', 'le', 'supuesto', 'uno', 'un sitio', 'él', 'Me', 'esas cosas', 'Qué', 'Qué Illarra', 'defensa', 'algunas', 'ellas', 'la defensa', 'P. Entonces', 'qué', 'esta temporada', 'nivel', 'bonito', 'Holanda', 'España', 'me', 'mis mejores prestaciones', 'equipo', 'que', 'Europa', 'sí que', 'se', 'verdad', 'la Liga', 'eso', 'me', 'P.', 'el Real Madrid', 'la baja', 'Cristiano', 'títulos', 'R.', 'verdad', 'que', 'un jugador', 'él', 'que', 'otro', 'Zidane', 'jugadores', 'ellos', 'un buen año', 'Temas', 'Real Sociedad Primera División Real Madrid 146 Comentarios Pacooo #', 'horas', 'la Real Sociedad', 'se', 'Odegaard', 'Davis_', '#', 'horas', '@enz0666 #', 'Cerrar', 'los fichajes', 'Real Madrid', 'fanáticos', 'esta vez', 'un error', 'les', 'mucho tiempo', 'bocas', 'muchos', 'este chaval', 'años', 'la Liga Holandesa', 'el Vitesse', 'números', 'otra', 'parte', 'nada', 'Halilovic', 'que', 'Dios', 'dónde', 'Comentarios Comenta Volver', 'la noticia', 'Odegaard', 'Mi meta', 'la Real', 'algún día', 'el Madrid', 'contenido', 'Otras', 'Unidad Editorial Marca App Marca Clasificación LaLiga Calendario LaLiga Hemeroteca Marca Marca eSports Marca', 'Orbyt Descuentos MARCA Ocio', 'Moda Tiramillas Moda', 'Telva BUHO Magazine Traductor Programación TV Marca Entradas Mi bebé', 'yo Unidad Editorial El Mundo Expansión CuídatePlus Diario Médico Correo Farmacéutico Suscripción Marca Suscripción El Mundo Formación y Empleo Escuela Unidad Editorial Unidad Editorial Expansión y Empleo © Julio 2019 Unidad Editorial Información Deportiva', 'S.L.U. Todos', 'los derechos', 'Términos y condiciones de uso Política', 'privacidad', 'Política', 'cookies', 'Certificado', 'OJD Contacto Publicidad Ayuda', 'Nuestro equipo', 'Venta', 'contenidos', 'Síguenos', 'Facebook Twitter RSS España Liga Endesa Calendario Clasificación Playoffs Basket FEB LEB Oro LEB Plata Liga Femenina Copa del Rey Cuadro', 'resultados', 'Selección Mundial 2019 Europa Euroliga Clasificación Calendario Eurocup Resultados y Clasificación Champions League Resultados y Clasificación Internacional NBA Playoffs Calendario Clasificaciones Equipos Coches Fórmula 1 Calendario Clasificación Rally', 'Raids Calendario Clasificación', 'pilotos', 'Clasificación equipos Rally Dakar Clasificaciones Recorrido Palmarés Motos Moto GP Calendario Pilotos Clasificación Moto2', 'Moto3', 'Modelos', 'coches', 'Modelos Comparador', 'coches', 'Pruebas', 'coches', 'Ocio Vídeos', 'motor', 'Mundial de Resistencia', 'horas', 'Daytona Indycar', 'horas', 'Le Mans', '.banda_suscripcion', 'span.suscribete{font-weight:bold;background-color:#00b155;border:2px', 'solid', '#c45050;color', '} Suscríbete', 'Marca', 'Descuento', 'Llévate una Tableta Gratis', 'QUIERO', 'SiteCatalyst', 'code', 'Copyright', '2010', 'Adobe', 'Inc', 'All Rights Reserved More', 'All Rights Reserved More info', '/web/20151202224104/http://www.omniture.com', 'NOT REMOVE/ End SiteCatalyst', 'code']"
     ]
    },
    {
     "name": "stdout",
     "output_type": "stream",
     "text": [
      "\n"
     ]
    }
   ],
   "source": [
    "print(\"Sintagmas Nominales:\", [chunk.text for chunk in doc.noun_chunks])"
   ]
  },
  {
   "cell_type": "code",
   "execution_count": 33,
   "metadata": {},
   "outputs": [
    {
     "name": "stdout",
     "output_type": "stream",
     "text": [
      "Verbos: ['triunfar', 'jugar', 'favorito', 'cargar', 'triunfar', 'jugar', 'triunfar', 'jugar', 'soñar', 'triunfar', 'hacer', 'jugar', 'recordar', 'sustituir', 'confesar', 'poner', 'Pregunta', 'hacer', 'Pienso', 'controlar', 'tener', 'poder', 'marcar', 'hacer', 'lograr', 'poder', 'marcar', 'mejorar', 'ganar', 'hacer', 'Coincidieron', 'Hablaron', 'conocer', 'entrenar', 'jugar', 'hacer', 'usar', 'jugar', 'Hablamos', 'hablar', 'ir', 'volver', 'decir', 'ir', 'decir', 'sentir', 'hacer', 'sentir', 'trabajar', 'ir', 'decidir', 'tener', 'tener', 'hablar', 'tener', 'tener', 'decir', 'escoger', 'pensar', 'Tuve', 'sentir', 'conocer', 'gustar', 'gustar', 'controlar', 'hablar', 'pensar', 'Conocía', 'decir', 'jugar', 'jugar', 'especificar', 'venir', 'hablar', 'ir', 'dejar', 'debutar', 'sustituir', 'recordar', 'decir', 'jugar', 'sustituir', 'entrenar', 'trabajar', 'intentar', 'mejorar', 'conocer', 'decir', 'vestir', 'jugar', 'tener', 'pensar', 'tener', 'conocer', 'estar', 'darle', 'decir', 'llegar', 'anunciar', 'decir', 'explicar', 'R.', 'jugar', 'venir', 'jugar', 'tener', 'conseguir', 'tener', 'ampliar', 'venir', 'jugar', 'creer', 'Quiero', 'dar', 'ver', 'jugar', 'seguir', 'estar', 'Esperaba', 'Necesitaba', 'jugar', 'decir', 'ver', 'seguir', 'jugar', 'Venir', 'dirigir', 'decir', 'ganar', 'aprender', 'renovar', 'jugar', 'merecer', 'gustar', 'gustar', 'trabajar', 'gustar', 'entrenar', 'Puede', 'hablar', 'hacer', 'hacer', 'R.', 'llegar', 'hablar', 'hacer', 'escuchar', 'decir', 'mejorar', 'Creo', 'progresar', 'terminar', 'desear', 'R.', 'pasar', 'gustar', 'dar', 'ayudar', 'esperar', 'ir', 'decir', 'jugar', 'motivo', 'superar', 'ganar', 'sustituir', 'encontrar', 'volver', 'fichar', 'esperar', 'creer', 'sorprender', 'criticar', 'cometer', 'quedo', 'callar', 'dar', 'dar', 'tener', 'destacar', 'decir', 'saber', 'andar', 'Ver', 'triunfar', 'jugar', 'Cargando', '/DO']\n"
     ]
    }
   ],
   "source": [
    "print(\"Verbos:\", [token.lemma_ for token in doc if token.pos_ == \"VERB\"])"
   ]
  },
  {
   "cell_type": "code",
   "execution_count": 34,
   "metadata": {},
   "outputs": [
    {
     "name": "stdout",
     "output_type": "stream",
     "text": [
      "Real Sociedad ORG\n",
      "Real ORG\n",
      "Madrid LOC\n",
      "Marca.com ## MISC\n",
      "FBEXCLU Portada MISC\n",
      "Marca Edición MISC\n",
      "ES Ediciones ORG\n",
      "España LOC\n",
      "México LOC\n",
      "US LOC\n",
      "USA LOC\n",
      "CO LOC\n",
      "Colombia LOC\n",
      "AR MISC\n",
      "Argentina LOC\n",
      "EN ORG\n",
      "English MISC\n",
      "Marca.com ORG\n",
      "Siempre MISC\n",
      "Marca.com MISC\n",
      "ES ORG\n",
      "España LOC\n",
      "México LOC\n",
      "US LOC\n",
      "USA LOC\n",
      "CO LOC\n",
      "Colombia LOC\n",
      "AR MISC\n",
      "Argentina LOC\n",
      "Confirmar Suscríbete PER\n",
      "Baloncesto Motor Polideportivo Fichajes eSports CuídatePlus Más Cerrar MISC\n",
      "Actualizado LOC\n",
      "Buscar Cerrar Inicio Volver PER\n",
      "Fútbol LaLiga Santander Real Sociedad Noticias Fichajes Pretemporada Calendario Clasificación Plantilla LOC\n",
      "Buscador de bares Ranking Patrocinio Más Cerrar Futbol MISC\n",
      "Compartir ORG\n",
      "Facebook Compartir LOC\n",
      "Twitter Enviar MISC\n",
      "España La Liga Santander Resultados Calendario Clasificación Premios Marca LaLiga 1|2|3 Resultados Calendario Clasificación Premios Marca Más fútbol Segunda B Tercera Danone Nations Cup Copa del Rey Calendario y Resultados Fútbol Femenino Liga Iberdrola ORG\n",
      "Calendario Clasificación PER\n",
      "Selección Española Eurocopa 2020 MISC\n",
      "Fútbol Sala Calendario Clasificación Encuentra tu Bar Budweiser Premios Marca Internacional Champions League Calendario MISC\n",
      "Resultados Europa League Calendario MISC\n",
      "Resultados International Champions Cup Calendario Clasificación Premier League Calendario MISC\n",
      "Resultados Clasificación Bundesliga Calendario MISC\n",
      "Resultados Clasificación Calcio Calendario PER\n",
      "Resultados Clasificación Ligue 1 Calendario LOC\n",
      "Resultados Clasificación Otras MISC\n",
      "Portugal Holanda Rusia América Copa América Calendario MISC\n",
      "Argentina Calendario PER\n",
      "Clasificación Chile Calendario PER\n",
      "Clasificación Colombia Calendario PER\n",
      "Clasificación LOC\n",
      "Estados Unidos Calendario LOC\n",
      "Clasificación México Calendario y Resultados Clasificación Venezuela Calendario PER\n",
      "Clasificación Más América Copa Libertadores Copa América Destacamos Atletismo Balonmano Ciclismo Deportes Invierno Golf LaLigaSportsTV Natación Pádel Tenis Turf Y MISC\n",
      "Ajedrez Boxeo PER\n",
      "Copa del Rey MISC\n",
      "MAPFRE ORG\n",
      "Deportes Aventura eSports NFL Olimpismo Otros MISC\n",
      "Paralímpicos Rugby Toros Triatlon Real Sociedad Odegaard ORG\n",
      "Real ORG\n",
      "Madrid LOC\n",
      "Real Sociedad   Entrevista ORG\n",
      "Real Madrid ORG\n",
      "Óscar Badallo Compartir PER\n",
      "Facebook Compartir LOC\n",
      "Twitter Enviar MISC\n",
      "CEST Odegaard MISC\n",
      "Real ORG\n",
      "Madrid LOC\n",
      "In English 146 comentarios Comentar TE MISC\n",
      "INTERESAR LOC\n",
      "Odegaard PER\n",
      "Casa de Papel M MISC\n",
      "Odegaard PER\n",
      "Real Sociedad ORG\n",
      "la Liga ORG\n",
      "Real Madrid ORG\n",
      "El crack noruego recordó MISC\n",
      "MARCA ORG\n",
      "Cristiano PER\n",
      "Pregunta PER\n",
      "Segundo amistoso de la pretemporada MISC\n",
      "Racing de Santander ORG\n",
      "¿Qué MISC\n",
      "Respuesta PER\n",
      "Pienso PER\n",
      "La suerte MISC\n",
      "P. El PER\n",
      "Real ORG\n",
      "Luca Zidane PER\n",
      "Coincidieron PER\n",
      "Real Madrid ORG\n",
      "¿Hablaron ORG\n",
      "El sábado hizo un muy buen partido MISC\n",
      "Hablamos ORG\n",
      "Estuvo ORG\n",
      "P. ¿Y PER\n",
      "Real LOC\n",
      "San Sebastián? LOC\n",
      "R. Le PER\n",
      "Los compañeros MISC\n",
      "Los entrenamientos son buenos MISC\n",
      "Excepto ORG\n",
      "P. ¿Cómo PER\n",
      "Real? ORG\n",
      "Por qué se decidió MISC\n",
      "Real ORG\n",
      "El Real Madrid ORG\n",
      "Real ORG\n",
      "Tuve ORG\n",
      "Champions MISC\n",
      "Real ORG\n",
      "Martin Odegaard P. ¿Qué PER\n",
      "Real? ORG\n",
      "la Liga ORG\n",
      "Real ORG\n",
      "Conocía PER\n",
      "Illarramendi LOC\n",
      "Llorente LOC\n",
      "Aquí LOC\n",
      "P. PER\n",
      "Bayer Leverkusen PER\n",
      "Champions MISC\n",
      "¿Por MISC\n",
      "No MISC\n",
      "Champions MISC\n",
      "Europa League MISC\n",
      "¿Presión del Real Madrid? MISC\n",
      "P. Vuelve PER\n",
      "Liga ORG\n",
      "Bernabéu LOC\n",
      "Cristiano LOC\n",
      "¿Qué MISC\n",
      "Me habían dicho antes del partido MISC\n",
      "Cristiano PER\n",
      "Fue una gran experiencia MISC\n",
      "¡ MISC\n",
      "El test de MARCA MISC\n",
      "Odegaard PER\n",
      "Casa de Papel P. Barrenetxea MISC\n",
      "¿Le conoce? MISC\n",
      "¿Qué MISC\n",
      "Aún PER\n",
      "P. Su PER\n",
      "Real ORG\n",
      "¿Cómo MISC\n",
      "La idea MISC\n",
      "P. PER\n",
      "Europa LOC\n",
      "¿El objetivo MISC\n",
      "Sí MISC\n",
      "El objetivo MISC\n",
      "El campo MISC\n",
      "Entre todos lo podemos conseguir MISC\n",
      "P. ¿Y PER\n",
      "Real Madrid ORG\n",
      "Real ORG\n",
      "Real Madrid ORG\n",
      "Real LOC\n",
      "Quiero LOC\n",
      "Real LOC\n",
      "Real Madrid ORG\n",
      "P. ¿Le PER\n",
      "Holanda LOC\n",
      "¿Esperaba MISC\n",
      "Necesitaba LOC\n",
      "Holanda LOC\n",
      "Real Madrid ORG\n",
      "Pero hay un gran paso de jugar en Holanda MISC\n",
      "Real Madrid ORG\n",
      "Venir LOC\n",
      "Real LOC\n",
      "P. PER\n",
      "Real Madrid ORG\n",
      "Zidane PER\n",
      "Castilla LOC\n",
      "¿Qué MISC\n",
      "Champions MISC\n",
      "Esa es una de las decisiones MISC\n",
      "Real Madrid ORG\n",
      "Zidane PER\n",
      "P. PER\n",
      "Real Sociedad está Imanol ORG\n",
      "¿Qué MISC\n",
      "R. Muy PER\n",
      "Estoy PER\n",
      "Me gusta su forma de ser MISC\n",
      "¿Muy MISC\n",
      "Zidane PER\n",
      "P. Imanol PER\n",
      "¿Qué MISC\n",
      "Me hace feliz escuchar esas cosas MISC\n",
      "¿Qué Illarra MISC\n",
      "P. Entonces PER\n",
      "¿qué desea MISC\n",
      "Holanda LOC\n",
      "España LOC\n",
      "Europa LOC\n",
      "Ahora MISC\n",
      "la Liga ORG\n",
      "P. Y PER\n",
      "Real Madrid ORG\n",
      "¿ LOC\n",
      "Cristiano LOC\n",
      "Zidane PER\n",
      "Temas relacionados Real Sociedad Primera División Real Madrid 146 Comentarios Pacooo # MISC\n",
      "En la Real Sociedad MISC\n",
      "Odegaard PER\n",
      "Davis_ #6 23/07/2019 MISC\n",
      "@enz0666 #3 Cerrar Todos los fichajes del MISC\n",
      "Real Madrid ORG\n",
      "Liga Holandesa ORG\n",
      "Vitesse ORG\n",
      "Por otra parte MISC\n",
      "Halilovic MISC\n",
      "Dios MISC\n",
      "Ver 146 Comentarios Comenta Volver MISC\n",
      "Odegaard PER\n",
      "Real ORG\n",
      "Madrid LOC\n",
      "Otras ORG\n",
      "Unidad Editorial Marca App Marca Clasificación LaLiga Calendario LaLiga Hemeroteca Marca Marca eSports Marca MISC\n",
      "Orbyt Descuentos MARCA Ocio y Moda Tiramillas Moda MISC\n",
      "Telva BUHO ORG\n",
      "Marca Entradas Mi bebé MISC\n",
      "Unidad Editorial El Mundo Expansión CuídatePlus Diario Médico Correo Farmacéutico Suscripción Marca Suscripción El Mundo Formación ORG\n",
      "Empleo Escuela Unidad Editorial Unidad Editorial Expansión ORG\n",
      "Empleo © Julio 2019 Unidad Editorial Información Deportiva ORG\n",
      "S.L.U. Todos ORG\n",
      "Términos ORG\n",
      "Política de privacidad Política de cookies Certificado MISC\n",
      "OJD ORG\n",
      "Contacto Publicidad Ayuda Nuestro MISC\n",
      "Venta de contenidos Síguenos LOC\n",
      "Facebook Twitter RSS España Liga Endesa Calendario Clasificación Playoffs Basket FEB MISC\n",
      "Liga Femenina Copa del Rey Cuadro MISC\n",
      "Selección Mundial 2019 Europa Euroliga Clasificación Calendario Eurocup Resultados MISC\n",
      "Clasificación Champions League Resultados MISC\n",
      "Clasificación Internacional NBA Playoffs Calendario Clasificaciones Equipos Coches Fórmula 1 Calendario Clasificación Rally MISC\n",
      "Raids Calendario Clasificación PER\n",
      "Clasificación LOC\n",
      "Rally Dakar Clasificaciones Recorrido MISC\n",
      "Moto GP Calendario Pilotos Clasificación Moto2 Moto3 Modelos de coches Modelos Comparador de coches MISC\n",
      "Pruebas ORG\n",
      "Ocio Vídeos Más motor Mundial de Resistencia 24 horas de Daytona Indycar MISC\n",
      "Le Mans LOC\n",
      "Suscríbete LOC\n",
      "Marca MISC\n",
      "Descuento MISC\n",
      "¡Llévate PER\n",
      "Tableta Gratis! ¡LO QUIERO MISC\n",
      "SiteCatalyst MISC\n",
      "Copyright 1996 MISC\n",
      "Adobe LOC\n",
      "Inc ORG\n",
      "All Rights Reserved More ORG\n",
      "NOT ORG\n",
      "End SiteCatalyst MISC\n"
     ]
    }
   ],
   "source": [
    "# Find named entities, phrases and concepts\n",
    "for entity in doc.ents:\n",
    "    print(entity.text, entity.label_)"
   ]
  },
  {
   "cell_type": "code",
   "execution_count": null,
   "metadata": {},
   "outputs": [],
   "source": []
  }
 ],
 "metadata": {
  "kernelspec": {
   "display_name": "Python 3",
   "language": "python",
   "name": "python3"
  },
  "language_info": {
   "codemirror_mode": {
    "name": "ipython",
    "version": 3
   },
   "file_extension": ".py",
   "mimetype": "text/x-python",
   "name": "python",
   "nbconvert_exporter": "python",
   "pygments_lexer": "ipython3",
   "version": "3.6.5"
  }
 },
 "nbformat": 4,
 "nbformat_minor": 2
}
